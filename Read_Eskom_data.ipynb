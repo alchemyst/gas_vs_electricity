{
 "cells": [
  {
   "cell_type": "markdown",
   "id": "a539ff5e-e6e4-499b-9445-09bfe9c8a09a",
   "metadata": {},
   "source": [
    "# Read Eskom tarifs from their website"
   ]
  },
  {
   "cell_type": "code",
   "execution_count": 1,
   "id": "14e65d8e-01d3-48f1-8dcf-b3c35f159bab",
   "metadata": {},
   "outputs": [],
   "source": [
    "import requests\n",
    "from html.parser import HTMLParser\n",
    "import pathlib\n",
    "import pandas as pd\n",
    "import re\n",
    "import sqlite3"
   ]
  },
  {
   "cell_type": "code",
   "execution_count": 2,
   "id": "21bb190e-66a7-4f6f-ba0a-0b8ca78ded67",
   "metadata": {},
   "outputs": [],
   "source": [
    "url = 'https://www.eskom.co.za/distribution/rates-in-excel-format/'"
   ]
  },
  {
   "cell_type": "code",
   "execution_count": 3,
   "id": "20997382-83d6-4e1a-8603-ff0dc3d7d90a",
   "metadata": {},
   "outputs": [],
   "source": [
    "rates = pathlib.Path('rates')\n",
    "rates.mkdir(exist_ok=True)"
   ]
  },
  {
   "cell_type": "code",
   "execution_count": 4,
   "id": "eb5affc3-9081-4e7f-b2b6-d311120f4973",
   "metadata": {},
   "outputs": [],
   "source": [
    "class LocalParser(HTMLParser):\n",
    "    def handle_starttag(self, tag, attrs):\n",
    "        attrdict = dict(attrs)\n",
    "        if tag == 'a' and 'xls' in (href := attrdict['href']):\n",
    "            filename = href.split('/')[-1]\n",
    "            target = rates / filename\n",
    "            if not target.exists():\n",
    "                print(f'Downloading {href}')\n",
    "                target.write_bytes(requests.get(href).content)\n",
    "            else:\n",
    "                print(f'Already downloaded {target}')"
   ]
  },
  {
   "cell_type": "code",
   "execution_count": 5,
   "id": "5712868d-32d3-4a87-96ab-ad59483b9774",
   "metadata": {},
   "outputs": [
    {
     "name": "stdout",
     "output_type": "stream",
     "text": [
      "Already downloaded rates/Rates-in-excel-format.xlsm\n",
      "Already downloaded rates/Eskom-Tariff-book-1-April-2021-V0.xlsm\n",
      "Already downloaded rates/202021-Eskom-Tariffs.xlsm\n",
      "Already downloaded rates/2019_20-Tariff-book-excel-version-1-April-2019-internet-Rev-00.xlsm\n",
      "Already downloaded rates/Rates-in-Excel-format-2018_19.xlsm\n",
      "Already downloaded rates/201718-Tariff-book-Scenario-internet-version.xlsm\n",
      "Already downloaded rates/2016_17-Tariff-rates-published-version-v00.xlsm\n",
      "Already downloaded rates/Tariff-book-2015_16-excl-Transflex.xlsm\n",
      "Already downloaded rates/201415-Tariff-book-Internet-version.xlsm\n",
      "Already downloaded rates/Tariffs-2013_14-Internet.xlsm\n"
     ]
    }
   ],
   "source": [
    "LocalParser().feed(requests.get(url).text)"
   ]
  },
  {
   "cell_type": "code",
   "execution_count": 6,
   "id": "7c8b73a7-9528-4230-8543-08e4affd6fe3",
   "metadata": {},
   "outputs": [],
   "source": [
    "year_re = re.compile(r'\\d{4}.\\d{2}')"
   ]
  },
  {
   "cell_type": "markdown",
   "id": "594bbf96-37c8-4db8-9ac4-4234abd5bc2a",
   "metadata": {},
   "source": [
    "To save time, I'm assuming some stuff about these tarifs:\n",
    "- There are 2 blocks\n",
    "- The cutoff is 600 kWh\n",
    "- The rate we're interested in is the +VAT one\n",
    "- Rates apply from April in the first named year to March in the second"
   ]
  },
  {
   "cell_type": "code",
   "execution_count": 7,
   "id": "b77d5ded-0281-4067-8061-4387c497d768",
   "metadata": {},
   "outputs": [],
   "source": [
    "import datetime"
   ]
  },
  {
   "cell_type": "code",
   "execution_count": 8,
   "id": "417b09b6-8cfc-4d57-ab54-17983119a15b",
   "metadata": {},
   "outputs": [
    {
     "name": "stdout",
     "output_type": "stream",
     "text": [
      "2022/23\n",
      "Homepower NLA\n",
      "2021/22\n",
      "Homepower NLA\n",
      "2018/19\n",
      "Homepower inc\n",
      "2013/14\n",
      "Homepower inc\n",
      "2020/21\n",
      "Homepower NLA\n",
      "2015/16\n",
      "Homepower inc\n",
      "2017/18\n",
      "Homepower inc\n",
      "2019/20\n",
      "Homepower NLA\n",
      "2016/17\n",
      "Homepower inc\n",
      "2013/14\n",
      "Homepower inc\n"
     ]
    }
   ],
   "source": [
    "rate_data = []\n",
    "for f in rates.glob('*.xlsm'):\n",
    "    ef = pd.ExcelFile(f)\n",
    "    df = (\n",
    "        ef.parse(sheet_name='Menu')\n",
    "        .dropna(axis='columns', how='all')\n",
    "        .dropna(how='all')\n",
    "    )\n",
    "    year = None\n",
    "    for item in df.values.ravel():\n",
    "        if not isinstance(item, str):\n",
    "            continue\n",
    "        for m in year_re.findall(item):\n",
    "            year = m\n",
    "            break\n",
    "        if year:\n",
    "            break\n",
    "    print(year)\n",
    "    sheet = [s for s in ef.sheet_names if 'Homepower' in s and 'Munic' not in s][0]\n",
    "    print(sheet)\n",
    "    df = ef.parse(sheet_name=sheet).dropna(how='all').dropna(axis='columns', how='all')\n",
    "    keepcols = []\n",
    "    startrow = None\n",
    "    for c in df.columns:\n",
    "        for row, v in enumerate(df[c]):\n",
    "            if not isinstance(v, str):\n",
    "                continue\n",
    "            if 'Block' in v:\n",
    "                startrow = row\n",
    "            if 'Block' in v or 'VAT' in v:\n",
    "                keepcols.append(c)\n",
    "                break\n",
    "    valueblock = df.iloc[startrow:startrow+2][keepcols].values\n",
    "    rate_data.append({\n",
    "        'Date': datetime.datetime(int(year.split('/')[0]), 4, 1),\n",
    "        'Block 1': valueblock[1, 1],\n",
    "        'Block 2': valueblock[1, 3],\n",
    "    }\n",
    "    )\n",
    "elec = pd.DataFrame(rate_data).set_index('Date').sort_index()"
   ]
  },
  {
   "cell_type": "code",
   "execution_count": 9,
   "id": "704bd584-e5fa-4e28-9e43-3f1529030e00",
   "metadata": {},
   "outputs": [],
   "source": [
    "con = sqlite3.connect('costs.db')"
   ]
  },
  {
   "cell_type": "code",
   "execution_count": 11,
   "id": "cf3da16b-0201-49c8-bc4a-1809e7061ee8",
   "metadata": {},
   "outputs": [
    {
     "data": {
      "text/plain": [
       "10"
      ]
     },
     "execution_count": 11,
     "metadata": {},
     "output_type": "execute_result"
    }
   ],
   "source": [
    "elec.to_sql('electricity', con, if_exists='replace')"
   ]
  }
 ],
 "metadata": {
  "kernelspec": {
   "display_name": "Python 3 (ipykernel)",
   "language": "python",
   "name": "python3"
  },
  "language_info": {
   "codemirror_mode": {
    "name": "ipython",
    "version": 3
   },
   "file_extension": ".py",
   "mimetype": "text/x-python",
   "name": "python",
   "nbconvert_exporter": "python",
   "pygments_lexer": "ipython3",
   "version": "3.11.0"
  }
 },
 "nbformat": 4,
 "nbformat_minor": 5
}
